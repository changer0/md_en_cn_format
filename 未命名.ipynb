{
 "cells": [
  {
   "cell_type": "code",
   "execution_count": 2,
   "id": "4f7da7d9",
   "metadata": {},
   "outputs": [
    {
     "name": "stdout",
     "output_type": "stream",
     "text": [
      "\n",
      "- **对比缓存：** 需要服务端参与判断是否继续使用缓存，当客户端第一次请求数据时，服务端会将缓存标识（Last-Modified/If-Modified-Since 与 Etag/If-None-Match）与数据一起返回给客户端，客户端将两者都备份到缓存中 ，再次使用 Etag/If-None-Match 请求数据时，客户端将上次备份的缓存标识发送给服务端，服务端根据缓存标识进行判断，如果返回304，则表示通知客户端可以继续使用缓存，请处理 Last-Modified。 \n",
      "\n",
      "``` shell\n",
      "Last-Modified: Tue, 12 Jan 2016 09:31:27 GMT 你好我 dasdfa\n",
      "```\n",
      "\n",
      "```\n",
      "Last-Modified: Tue, 12 Jan 2016 09:31:27 GMT 你好我 dasdfa\n",
      "```\n",
      "\n",
      "- [增量更新 BSDiff 算法溯源和原理解析 - CSDN 博客](https://blog.csdn.net/cplasf2012/article/details/117769624) \n",
      "- [Android_增量更新(BSDiff)详解 - 知乎](https://zhuanlan.zhihu.com/p/396023509) \n",
      "- [BSDiff 算法_darling757267的博客-CSDN 博客](https://blog.csdn.net/darling757267/article/details/80652267) \n",
      "- [[差量更新系列1]BSDiff 算法学习笔记_add_ada 的博客-CSDN 博客](https://blog.csdn.net/add_ada/article/details/51232889) \n",
      "\n"
     ]
    }
   ],
   "source": [
    "import re\n",
    "\n",
    "def add_spaces(text):\n",
    "    # 在英文单词或者连续的英文标识跟中文之间插入一个空格\n",
    "    text = re.sub(r'([a-zA-Z]+)([\\u4e00-\\u9fa5]+)', r'\\1 \\2', text)\n",
    "    text = re.sub(r'([\\u4e00-\\u9fa5]+)([a-zA-Z]+)', r'\\1 \\2', text)\n",
    "\n",
    "    # 忽略代码块中的内容，保持原样\n",
    "    code_blocks = re.findall(r'```[\\s\\S]*?```', text)\n",
    "    for code_block in code_blocks:\n",
    "        text = text.replace(code_block, f'CODE_BLOCK_{code_blocks.index(code_block)}')\n",
    "\n",
    "    # 对于行中如果中括号包裹了，则内部的字符不需要增加空格\n",
    "    text = re.sub(r'\\[([^\\]]+)]', r'[\\1]', text)\n",
    "\n",
    "    # 恢复代码块内容\n",
    "    for i, code_block in enumerate(code_blocks):\n",
    "        text = text.replace(f'CODE_BLOCK_{i}', code_block)\n",
    "\n",
    "    return text\n",
    "\n",
    "# 示例用法\n",
    "markdown_text = \"\"\"\n",
    "- **对比缓存：** 需要服务端参与判断是否继续使用缓存，当客户端第一次请求数据时，服务端会将缓存标识（Last-Modified/If-Modified-Since与Etag/If-None-Match）与数据一起返回给客户端，客户端将两者都备份到缓存中 ，再次使用Etag/If-None-Match请求数据时，客户端将上次备份的缓存标识发送给服务端，服务端根据缓存标识进行判断，如果返回304，则表示通知客户端可以继续使用缓存，请处理Last-Modified。 \n",
    "\n",
    "``` shell\n",
    "Last-Modified: Tue, 12 Jan 2016 09:31:27 GMT你好我dasdfa\n",
    "```\n",
    "\n",
    "```\n",
    "Last-Modified: Tue, 12 Jan 2016 09:31:27 GMT你好我dasdfa\n",
    "```\n",
    "\n",
    "- [增量更新BSDiff算法溯源和原理解析 - CSDN博客](https://blog.csdn.net/cplasf2012/article/details/117769624) \n",
    "- [Android_增量更新(BSDiff)详解 - 知乎](https://zhuanlan.zhihu.com/p/396023509) \n",
    "- [BSDiff算法_darling757267的博客-CSDN博客](https://blog.csdn.net/darling757267/article/details/80652267) \n",
    "- [[差量更新系列1]BSDiff算法学习笔记_add_ada的博客-CSDN博客](https://blog.csdn.net/add_ada/article/details/51232889) \n",
    "\"\"\"\n",
    "\n",
    "result_text = add_spaces(markdown_text)\n",
    "print(result_text)"
   ]
  },
  {
   "cell_type": "code",
   "execution_count": null,
   "id": "40700d03",
   "metadata": {},
   "outputs": [],
   "source": []
  },
  {
   "cell_type": "code",
   "execution_count": null,
   "id": "2fcaf5e4",
   "metadata": {},
   "outputs": [],
   "source": []
  }
 ],
 "metadata": {
  "kernelspec": {
   "display_name": "Python 3 (ipykernel)",
   "language": "python",
   "name": "python3"
  },
  "language_info": {
   "codemirror_mode": {
    "name": "ipython",
    "version": 3
   },
   "file_extension": ".py",
   "mimetype": "text/x-python",
   "name": "python",
   "nbconvert_exporter": "python",
   "pygments_lexer": "ipython3",
   "version": "3.11.5"
  }
 },
 "nbformat": 4,
 "nbformat_minor": 5
}
