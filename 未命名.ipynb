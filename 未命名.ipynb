{
 "cells": [
  {
   "cell_type": "code",
   "execution_count": 6,
   "id": "4f7da7d9",
   "metadata": {},
   "outputs": [
    {
     "name": "stdout",
     "output_type": "stream",
     "text": [
      "\n",
      "- **对比缓存：** 需要服务端参与判断是否继续使用缓存，当客户端第一次请求数据时，服务端会将缓存标识（Last-Modified/If-Modified-Since 与 Etag/If-None-Match）与数据一起返回给客户端，客户端将两者都备份到缓存中 ，再次使用 Etag/If-None-Match 请求数据时，客户端将上次备份的缓存标识发送给服务端，服务端根据缓存标识进行判断，如果返回 304，则表示通知客户端可以继续使用缓存，请处理 Last-Modified。 \n",
      "\n",
      "``` shell\n",
      "Last-Modified: Tue, 12 Jan 2016 09:31:27 GMT你好我dasdfa\n",
      "```\n",
      "\n",
      "```\n",
      "Last-Modified: Tue, 12 Jan 2016 09:31:27 GMT你好我dasdfa\n",
      "```\n",
      "\n"
     ]
    }
   ],
   "source": [
    "\n",
    "import re\n",
    "\n",
    "def add_space_between_english_and_chinese(text):\n",
    "    # 匹配英文单词、数字、或连续的英文标识与中文之间的位置\n",
    "    pattern = re.compile(r'(?<=[a-zA-Z0-9\\-\\_\\/])\\s*(?=[\\u4e00-\\u9fa5])|(?<=[\\u4e00-\\u9fa5])\\s*(?=[a-zA-Z0-9\\-\\_\\/])')\n",
    "    \n",
    "    # 忽略代码块中的内容\n",
    "    in_code_block = False\n",
    "    lines = text.split('\\n')\n",
    "    for i in range(len(lines)):\n",
    "        line = lines[i]\n",
    "        if '```' in line:\n",
    "            in_code_block = not in_code_block\n",
    "        if in_code_block:\n",
    "            continue\n",
    "        lines[i] = pattern.sub(' ', line)\n",
    "\n",
    "    return '\\n'.join(lines)\n",
    "\n",
    "if __name__ == \"__main__\":\n",
    "    input_text = \"\"\"\n",
    "- **对比缓存：** 需要服务端参与判断是否继续使用缓存，当客户端第一次请求数据时，服务端会将缓存标识（Last-Modified/If-Modified-Since与Etag/If-None-Match）与数据一起返回给客户端，客户端将两者都备份到缓存中 ，再次使用Etag/If-None-Match请求数据时，客户端将上次备份的缓存标识发送给服务端，服务端根据缓存标识进行判断，如果返回304，则表示通知客户端可以继续使用缓存，请处理Last-Modified。 \n",
    "\n",
    "``` shell\n",
    "Last-Modified: Tue, 12 Jan 2016 09:31:27 GMT你好我dasdfa\n",
    "```\n",
    "\n",
    "```\n",
    "Last-Modified: Tue, 12 Jan 2016 09:31:27 GMT你好我dasdfa\n",
    "```\n",
    "\"\"\"\n",
    "    output_text = add_space_between_english_and_chinese(input_text)\n",
    "    print(output_text)\n"
   ]
  },
  {
   "cell_type": "code",
   "execution_count": null,
   "id": "40700d03",
   "metadata": {},
   "outputs": [],
   "source": []
  },
  {
   "cell_type": "code",
   "execution_count": null,
   "id": "2fcaf5e4",
   "metadata": {},
   "outputs": [],
   "source": []
  }
 ],
 "metadata": {
  "kernelspec": {
   "display_name": "Python 3 (ipykernel)",
   "language": "python",
   "name": "python3"
  },
  "language_info": {
   "codemirror_mode": {
    "name": "ipython",
    "version": 3
   },
   "file_extension": ".py",
   "mimetype": "text/x-python",
   "name": "python",
   "nbconvert_exporter": "python",
   "pygments_lexer": "ipython3",
   "version": "3.11.5"
  }
 },
 "nbformat": 4,
 "nbformat_minor": 5
}
